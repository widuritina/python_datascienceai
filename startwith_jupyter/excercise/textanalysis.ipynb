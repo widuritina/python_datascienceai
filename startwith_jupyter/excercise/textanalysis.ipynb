{
 "cells": [
  {
   "cell_type": "code",
   "execution_count": 43,
   "metadata": {},
   "outputs": [
    {
     "ename": "SyntaxError",
     "evalue": "incomplete input (3200348910.py, line 34)",
     "output_type": "error",
     "traceback": [
      "\u001b[1;36m  Cell \u001b[1;32mIn[43], line 34\u001b[1;36m\u001b[0m\n\u001b[1;33m    return(sum(a,b)\u001b[0m\n\u001b[1;37m                   ^\u001b[0m\n\u001b[1;31mSyntaxError\u001b[0m\u001b[1;31m:\u001b[0m incomplete input\n"
     ]
    }
   ],
   "source": [
    "class text_analysis:\n",
    "    #Convert text to lower and clean  sign\n",
    "    def __init__ (self,text):\n",
    "        self.text=text\n",
    "        self.fmtText=self.text.lower()\n",
    "        self.fmtText=self.fmtText.replace(\".\",\"\").replace(\",\",\"\").replace(\"!\",\"\").replace(\"?\",\"\")\n",
    "        print(f\"Converted text:\\n {self.fmtText}\")\n",
    "    \n",
    "    #Count unique words\n",
    "    def freqAll(self):\n",
    "        self.list_text=[]\n",
    "        self.list_text=list(self.fmtText.split())\n",
    "\n",
    "        set_text=set(self.list_text)\n",
    "        print(f\"Counting unique words:\\n From list {len(self.list_text)} to set {len(set_text)}\")\n",
    "    \n",
    "    #Count specific word\n",
    "    def freqOf(self,word):\n",
    "        count=0\n",
    "        for list_words in self.list_text:\n",
    "            if (list_words==word):\n",
    "                count+=1\n",
    "        print(f\"Count {word} in text: {count}\")\n",
    "        \n",
    "        \n",
    "\n",
    "#string1=\"Lorem ipsum dolor! diam amet, consetetur Lorem magna. sed diam nonumy eirmod tempor. diam et labore? et diam magna. et diam amet.\"\n",
    "string1=text_analysis(\"Lorem ipsum dolor! diam amet, consetetur Lorem magna. sed diam nonumy eirmod tempor. diam et labore? et diam magna. et diam amet.\")\n",
    "string1.freqAll()\n",
    "string1.freqOf(\"diam\")\n",
    "\n"
   ]
  },
  {
   "cell_type": "code",
   "execution_count": null,
   "metadata": {},
   "outputs": [],
   "source": []
  }
 ],
 "metadata": {
  "kernelspec": {
   "display_name": "Python 3",
   "language": "python",
   "name": "python3"
  },
  "language_info": {
   "codemirror_mode": {
    "name": "ipython",
    "version": 3
   },
   "file_extension": ".py",
   "mimetype": "text/x-python",
   "name": "python",
   "nbconvert_exporter": "python",
   "pygments_lexer": "ipython3",
   "version": "3.12.3"
  }
 },
 "nbformat": 4,
 "nbformat_minor": 2
}
