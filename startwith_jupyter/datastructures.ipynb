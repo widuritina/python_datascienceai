{
 "cells": [
  {
   "cell_type": "markdown",
   "metadata": {},
   "source": [
    "## Lists"
   ]
  },
  {
   "cell_type": "code",
   "execution_count": 31,
   "metadata": {},
   "outputs": [
    {
     "name": "stdout",
     "output_type": "stream",
     "text": [
      "Hello, this is List!\n",
      "\n",
      "List A=[1, 'hello', [1, 2, 3], True] \n",
      "    second element is hello\n",
      "    slicing list from second to fourth element: ['hello', [1, 2, 3], True]\n",
      "\n",
      "List A=[1, 'a'] and B=[2, 1, 'd']\n",
      "      concatenate list A and B: [1, 'a', [2, 1, 'd']]\n",
      "\n",
      "\n",
      "Shoping List Scenario.\n",
      "Shopping list: ['Watch', 'Laptop', 'Shoes', 'Pen', 'Clothes']\n",
      "    adding football into list: ['Watch', 'Laptop', 'Shoes', 'Pen', 'Clothes', 'Football']\n",
      "    the first element: Watch\n",
      "    the last element: Football\n",
      "    \n",
      "    slice second to third elements: ['Laptop', 'Shoes']\n",
      "    change fourth element: ['Watch', 'Laptop', 'Shoes', 'Notebook', 'Clothes', 'Football']\n",
      "    delete fifth element: ['Watch', 'Laptop', 'Shoes', 'Notebook', 'Football']\n",
      "    extend football string into lists: ['Watch', 'Laptop', 'Shoes', 'Notebook', 'Football', 'F', 'o', 'o', 't', 'b', 'a', 'l', 'l']\n"
     ]
    }
   ],
   "source": [
    "print(f\"Hello, this is List!\\n\")\n",
    "\n",
    "a_list=[1,\"hello\",[1,2,3],True]\n",
    "print(f\"\\\n",
    "List A={a_list} \\n\\\n",
    "    second element is {a_list[1]}\\n\\\n",
    "    slicing list from second to fourth element: {a_list[1:4]}\\n\") #index range +1 or -1\n",
    "\n",
    "A=[1,'a']\n",
    "B=[2,1,'d']\n",
    "print(f\"List A={A} and B={B}\")\n",
    "A.append(B)\n",
    "print(f\"\\\n",
    "      concatenate list A and B: {A}\\n\\n\")\n",
    "\n",
    "\n",
    "#Shopping list scenario\n",
    "print(f\"Shoping List Scenario.\")\n",
    "\n",
    "shopping_list=[\"Watch\",\"Laptop\",\"Shoes\",\"Pen\",\"Clothes\"]\n",
    "print(f\"Shopping list: {shopping_list}\")\n",
    "shopping_list.append(\"Football\")\n",
    "print(f\"\\\n",
    "    adding football into list: {shopping_list}\\n\\\n",
    "    the first element: {shopping_list[0]}\\n\\\n",
    "    the last element: {shopping_list[-1]}\\n\\\n",
    "    \\n\\\n",
    "    slice second to third elements: {shopping_list[1:3]}\")\n",
    "\n",
    "shopping_list[3]=\"Notebook\"\n",
    "print(f\"\\\n",
    "    change fourth element: {shopping_list}\")\n",
    "\n",
    "del(shopping_list[4])\n",
    "print(f\"\\\n",
    "    delete fifth element: {shopping_list}\")\n",
    "\n",
    "shopping_list.extend(\"Football\")\n",
    "print(f\"\\\n",
    "    extend football string into lists: {shopping_list}\")"
   ]
  },
  {
   "cell_type": "markdown",
   "metadata": {},
   "source": [
    "## Tuples"
   ]
  },
  {
   "cell_type": "code",
   "execution_count": 44,
   "metadata": {},
   "outputs": [
    {
     "name": "stdout",
     "output_type": "stream",
     "text": [
      "Hello! This is Tuples.\n",
      "\n",
      "A tuple = ('pop', 'rock', 'soul', 'hard rock', 'soft rock', 'R&B', 'progressive rock', 'disco')\n",
      "    fourth element: hard rock\n",
      "    fourth to fifth elements: ('hard rock', 'soft rock', 'R&B')\n",
      "    first to second elements: ('pop', 'rock')\n",
      "    find o in last element: 4\n",
      "\n",
      "A tuple = (-5, 1, -3), sort it: [-5, -3, 1]\n"
     ]
    }
   ],
   "source": [
    "genres_tuple = (\"pop\", \"rock\", \"soul\", \"hard rock\", \"soft rock\", \"R&B\", \"progressive rock\", \"disco\") \n",
    "\n",
    "print(f\"Hello! This is Tuples.\\n\\n\\\n",
    "A tuple = {genres_tuple}\\n\\\n",
    "    fourth element: {genres_tuple[3]}\\n\\\n",
    "    fourth to fifth elements: {genres_tuple[3:6]}\\n\\\n",
    "    first to second elements: {genres_tuple[0:2]}\\n\\\n",
    "    find o in last element: {genres_tuple[-1].find('o')}\\n\")\n",
    "\n",
    "C_tuple=(-5,1,-3)\n",
    "print(f\"\\\n",
    "A tuple = {C_tuple}, sort it: {sorted(C_tuple)}\")\n"
   ]
  },
  {
   "cell_type": "markdown",
   "metadata": {},
   "source": [
    "## Dictionaries"
   ]
  },
  {
   "cell_type": "code",
   "execution_count": 58,
   "metadata": {},
   "outputs": [
    {
     "name": "stdout",
     "output_type": "stream",
     "text": [
      "A soundtrack dict = {'The Bodyguard': '1992', 'Saturday Night Fever': '1977'}\n",
      "    keys: dict_keys(['The Bodyguard', 'Saturday Night Fever'])\n",
      "    values: dict_values(['1992', '1977'])\n",
      "\n",
      "An album dict: {'Black in Blask': 50, 'The Bodyguard': 50, 'Thiller': 65}\n",
      "    values in Thiller: 65\n",
      "\n",
      "\n",
      "\n",
      "Product Inventory Robust Case.\n",
      "An inventory = {'product1_name': 'Mobile Phone', 'product1_quantity': 5, 'product1_price': 20000, 'product1_releaseyear': 2020, 'product2_name': 'Laptop', 'product2_quantity': 10, 'product2_price': 50000, 'product2_releaseyear': 2023}\n",
      "    is \"product1_releaseyear\" exists in inventory? True\n",
      "    is \"product2_releaseyear\" exists in inventory? True\n",
      "\n",
      "    delete \"product1_releaseyear\" and \"product2_releaseyear\": \n",
      "    {'product1_name': 'Mobile Phone', 'product1_quantity': 5, 'product1_price': 20000, 'product2_name': 'Laptop', 'product2_quantity': 10, 'product2_price': 50000}\n"
     ]
    }
   ],
   "source": [
    "soundtrack_dic = {\"The Bodyguard\":\"1992\", \"Saturday Night Fever\":\"1977\"}\n",
    "print(f\"\\\n",
    "A soundtrack dict = {soundtrack_dic}\\n\\\n",
    "    keys: {soundtrack_dic.keys()}\\n\\\n",
    "    values: {soundtrack_dic.values()}\\n\")\n",
    "\n",
    "album_sales_dict={\"Black in Blask\":50,\"The Bodyguard\":50,\"Thiller\":65}\n",
    "print(f\"\\\n",
    "An album dict: {album_sales_dict}\\n\\\n",
    "    values in Thiller: {album_sales_dict['Thiller']}\\n\\n\\n\")\n",
    "\n",
    "\n",
    "\n",
    "# Robust Inventory Case\n",
    "inventory={}\n",
    "product1_name=\"Mobile Phone\"\n",
    "product1_quantity=5\n",
    "product1_price=20000\n",
    "product1_releaseyear=2020\n",
    "inventory[\"product1_name\"]=\"Mobile Phone\"\n",
    "inventory[\"product1_quantity\"]=5\n",
    "inventory[\"product1_price\"]=20000\n",
    "inventory[\"product1_releaseyear\"]=2020\n",
    "\n",
    "product2_name=\"Laptop\"\n",
    "product2_quantity=10\n",
    "product2_price=50000\n",
    "product2_releaseyear=2023\n",
    "inventory[\"product2_name\"]=\"Laptop\"\n",
    "inventory[\"product2_quantity\"]=10\n",
    "inventory[\"product2_price\"]=50000\n",
    "inventory[\"product2_releaseyear\"]=2023\n",
    "print(f\"\\\n",
    "Product Inventory Robust Case.\\n\\\n",
    "An inventory = {inventory}\\n\\\n",
    "    is \\\"product1_releaseyear\\\" exists in inventory? {\"product1_releaseyear\" in inventory}\\n\\\n",
    "    is \\\"product2_releaseyear\\\" exists in inventory? {\"product2_releaseyear\" in inventory}\\n\")\n",
    "\n",
    "del(inventory[\"product1_releaseyear\"])\n",
    "del(inventory[\"product2_releaseyear\"])\n",
    "print(f\"\\\n",
    "    delete \\\"product1_releaseyear\\\" and \\\"product2_releaseyear\\\": \\n\\\n",
    "    {inventory}\")"
   ]
  },
  {
   "cell_type": "markdown",
   "metadata": {},
   "source": [
    "## Sets"
   ]
  },
  {
   "cell_type": "code",
   "execution_count": 70,
   "metadata": {},
   "outputs": [
    {
     "name": "stdout",
     "output_type": "stream",
     "text": [
      "Hello. This is Sets.\n",
      "Set A = {'music', 'house', 'rap', 'electronic'} from list a = ['rap', 'house', 'electronic', 'music', 'rap']\n",
      "\n",
      "Sum from set A = [1, 2, 3, 4]: 10\n",
      "Sum from set B = {1, 2}: 3\n",
      "\n",
      "Set album A = {'AC/DC', 'Thriller', 'Back in Black'}\n",
      "Set album B = {'AC/DC', 'The Dark Side of the Moon', 'Back in Black'}\n",
      "    union of album set A and B: {'The Dark Side of the Moon', 'AC/DC', 'Thriller', 'Back in Black'}\n",
      "    is album A subset of union A and B? True\n"
     ]
    }
   ],
   "source": [
    "list1=['rap','house','electronic','music','rap']\n",
    "set1=set(list1)\n",
    "print(f\"\\\n",
    "Hello. This is Sets.\\n\\\n",
    "Set A = {set1} from list a = {list1}\\n\")\n",
    "\n",
    "A=[1,2,3,4]\n",
    "B=set([1,2,2,1])\n",
    "print(f\"\\\n",
    "Sum from set A = {A}: {sum(A)}\\n\\\n",
    "Sum from set B = {B}: {sum(B)}\\n\")\n",
    "\n",
    "album_set1=set([\"Thriller\", 'AC/DC', 'Back in Black'])\n",
    "album_set2=set([\"AC/DC\", \"Back in Black\", \"The Dark Side of the Moon\"])\n",
    "album_set3=album_set1.union(album_set2)\n",
    "print(f\"\\\n",
    "Set album A = {album_set1}\\n\\\n",
    "Set album B = {album_set2}\\n\\\n",
    "    union of album set A and B: {album_set3}\\n\\\n",
    "    is album A subset of union A and B? {album_set1.issubset(album_set3)}\")\n",
    "\n"
   ]
  },
  {
   "cell_type": "code",
   "execution_count": null,
   "metadata": {},
   "outputs": [],
   "source": []
  }
 ],
 "metadata": {
  "kernelspec": {
   "display_name": "Python 3",
   "language": "python",
   "name": "python3"
  },
  "language_info": {
   "codemirror_mode": {
    "name": "ipython",
    "version": 3
   },
   "file_extension": ".py",
   "mimetype": "text/x-python",
   "name": "python",
   "nbconvert_exporter": "python",
   "pygments_lexer": "ipython3",
   "version": "3.12.3"
  }
 },
 "nbformat": 4,
 "nbformat_minor": 2
}
