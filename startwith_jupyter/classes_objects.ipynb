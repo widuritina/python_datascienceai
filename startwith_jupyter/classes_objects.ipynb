{
 "cells": [
  {
   "cell_type": "markdown",
   "metadata": {},
   "source": [
    "## Car dealer inventory management"
   ]
  },
  {
   "cell_type": "code",
   "execution_count": 8,
   "metadata": {},
   "outputs": [
    {
     "name": "stdout",
     "output_type": "stream",
     "text": [
      "Object vechicle 1\n",
      "\tMaximum speed: 200\n",
      "\tMileage: 20\n",
      "\tSeating capacity: 8\n",
      "\tColor: White\n",
      "Object vechicle 2\n",
      "\tMaximum speed: 200\n",
      "\tMileage: 20\n",
      "\tSeating capacity: 8\n",
      "\tColor: White\n",
      "Get maximum speed attribute from object vechicle 2: 400\n"
     ]
    }
   ],
   "source": [
    "class vehicle:\n",
    "    color=\"White\"\n",
    "    def __init__(self,max_spedd,mileage):\n",
    "        self.max_speed=max_spedd\n",
    "        self.mileage=mileage\n",
    "    def assign_seatingcapacity(self,seating_capacity):\n",
    "        self.seating_capacity=seating_capacity\n",
    "    def display(self):\n",
    "        print(f\"\\tMaximum speed: {self.max_speed}\")\n",
    "        print(f\"\\tMileage: {self.mileage}\")\n",
    "        print(f\"\\tSeating capacity: {self.seating_capacity}\")\n",
    "        print(f\"\\tColor: {self.color}\")\n",
    "\n",
    "print(\"Object vechicle 1\")\n",
    "vehicle1=vehicle(200,20)\n",
    "vehicle1.assign_seatingcapacity(8)\n",
    "vehicle1.display()\n",
    "\n",
    "print(\"Object vechicle 2\")\n",
    "vehicle2=vehicle(400,20)\n",
    "vehicle2.assign_seatingcapacity(4)\n",
    "vehicle1.display()\n",
    "print(f\"Get maximum speed attribute from object vechicle 2: {vehicle2.max_speed}\") \n",
    "    "
   ]
  },
  {
   "cell_type": "code",
   "execution_count": null,
   "metadata": {},
   "outputs": [],
   "source": []
  }
 ],
 "metadata": {
  "kernelspec": {
   "display_name": "Python 3",
   "language": "python",
   "name": "python3"
  },
  "language_info": {
   "codemirror_mode": {
    "name": "ipython",
    "version": 3
   },
   "file_extension": ".py",
   "mimetype": "text/x-python",
   "name": "python",
   "nbconvert_exporter": "python",
   "pygments_lexer": "ipython3",
   "version": "3.12.3"
  }
 },
 "nbformat": 4,
 "nbformat_minor": 2
}
