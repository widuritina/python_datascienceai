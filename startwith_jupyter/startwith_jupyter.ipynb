{
 "cells": [
  {
   "cell_type": "markdown",
   "metadata": {},
   "source": [
    "## \n",
    "Try Jupyter, create plot"
   ]
  },
  {
   "cell_type": "code",
   "execution_count": 7,
   "metadata": {},
   "outputs": [],
   "source": [
    "#pip install matplotlib"
   ]
  },
  {
   "cell_type": "code",
   "execution_count": 9,
   "metadata": {},
   "outputs": [
    {
     "name": "stdout",
     "output_type": "stream",
     "text": [
      "Hello Python!! Trying jupyter..\n",
      "Python version is 3.12.3 (tags/v3.12.3:f6650f9, Apr  9 2024, 14:05:25) [MSC v.1938 64 bit (AMD64)]\n",
      "Simple equation from 10+7=17\n",
      "Plotting two list x=[1, 2, 3, 4] and y=[-1, -2, -3, -4]\n"
     ]
    },
    {
     "data": {
      "image/png": "[encoded data removed]",
      "text/plain": [
       "<Figure size 640x480 with 1 Axes>"
      ]
     },
     "metadata": {},
     "output_type": "display_data"
    }
   ],
   "source": [
    "print(\"Hello Python!! Trying jupyter..\")\n",
    "\n",
    "import sys\n",
    "print(f\"Python version is {sys.version}\") \n",
    "\n",
    "x=10\n",
    "y=7\n",
    "z=x+y\n",
    "print(f\"Simple equation from {x}+{y}={z}\")\n",
    "\n",
    "\n",
    "import matplotlib.pyplot as plt\n",
    "x=[1,2,3,4]\n",
    "y=[-1,-2,-3,-4]\n",
    "print(f\"Plotting two list x={x} and y={y}\")\n",
    "plt.plot(x,y)\n",
    "plt.show()"
   ]
  },
  {
   "cell_type": "markdown",
   "metadata": {},
   "source": [
    "## \n",
    "Types"
   ]
  },
  {
   "cell_type": "code",
   "execution_count": 79,
   "metadata": {},
   "outputs": [
    {
     "name": "stdout",
     "output_type": "stream",
     "text": [
      "Types.\n",
      "We can get types form a variable or a value.\n",
      "\n",
      "    Type from value 12.0, \ttype: <class 'float'>\n",
      "                          \tinfo: sys.float_info(max=1.7976931348623157e+308, max_exp=1024, max_10_exp=308, min=2.2250738585072014e-308, min_exp=-1021, min_10_exp=-307, dig=15, mant_dig=53, epsilon=2.220446049250313e-16, radix=2, rounds=1)\n",
      "\n",
      "    Type from operations. \tdivision 6/2,           \ttype: <class 'float'>\n",
      "                          \tinteger division 6//2,  \ttype: <class 'int'>,\n",
      "                          \tstring \"Hello World\",\t\ttype: <class 'str'>\n",
      "                          \tlogic operatoin,        \ttype: <class 'bool'>\n",
      "\n",
      "                          \tnote: double slash for integer division\n",
      "\n",
      "We can convert types.\n",
      "    convert \"1001\",     \tfrom <class 'str'> to <class 'int'>\n",
      "    convert 1234.56,      \tfrom <class 'float'> to <class 'float'>\n",
      "    convert 123-456-7890, \tfrom <class 'int'> to <class 'str'>\n",
      "      \n"
     ]
    }
   ],
   "source": [
    "import sys\n",
    "\n",
    "print(f\"Types.\\n\\\n",
    "We can get types form a variable or a value.\\n\\n\\\n",
    "    Type from value 12.0, \\ttype: {type(12.0)}\\n\\\n",
    "                          \\tinfo: {sys.float_info}\\n\")\n",
    "print(f\"\\\n",
    "    Type from operations. \\tdivision 6/2,           \\ttype: {   type(6/2)}\\n\\\n",
    "                          \\tinteger division 6//2,  \\ttype: {   type(6//2)},\\n\\\n",
    "                          \\tstring \\\"Hello World\\\",\\t\\ttype: {  type(\"Hello World!\")}\\n\\\n",
    "                          \\tlogic operatoin,        \\ttype: {   type(\"hello\"==\"world\")}\\n\\n\\\n",
    "                          \\tnote: double slash for integer division\\n\")\n",
    "\n",
    "print(f\"\\\n",
    "We can convert types.\\n\\\n",
    "    convert \\\"1001\\\",     \\tfrom {type(\"1001\")} to {type(       int(\"1001\"))}\\n\\\n",
    "    convert 1234.56,      \\tfrom {type(1234.56)} to {type(      float(1234.56))}\\n\\\n",
    "    convert 123-456-7890, \\tfrom {type(123-456-7890)} to {type( str(123-456-7890))}\\n\\\n",
    "      \")\n",
    "\n"
   ]
  },
  {
   "cell_type": "markdown",
   "metadata": {},
   "source": [
    "## \n",
    "String"
   ]
  },
  {
   "cell_type": "code",
   "execution_count": 56,
   "metadata": {},
   "outputs": [
    {
     "name": "stdout",
     "output_type": "stream",
     "text": [
      "String.\n",
      "\n",
      "string a=1 and b=2, \ta+b is 12 \ta+a+b+a is 1121, first three elements are 112\n",
      "\n",
      "String clocrkr1e1c1t, all even elements are correct\n",
      "\n",
      "String You are wrong, using upper method tobe YOU ARE WRONG, using lower method tobe you are wrong\n",
      "\n",
      "String\n",
      "Mary had a little lamb Little lamb, little lamb Mary had a little lamb Its fleece was white as snow And everywhere that Mary went Mary went, Mary went Everywhere that Mary went The lamb was sure to go\n",
      "    Find word snow:         95\n",
      "    Replace Mary by Bob:    Bob had a little lamb Little lamb, little lamb Bob had a little lamb Its fleece was white as snow And everywhere that Bob went Bob went, Bob went Everywhere that Bob went The lamb was sure to go\n",
      "    Replace , by . :        Mary had a little lamb Little lamb. little lamb Mary had a little lamb Its fleece was white as snow And everywhere that Mary went Mary went. Mary went Everywhere that Mary went The lamb was sure to go\n",
      "    Split string into list: ['Mary', 'had', 'a', 'little', 'lamb', 'Little', 'lamb,', 'little', 'lamb', 'Mary', 'had', 'a', 'little', 'lamb', 'Its', 'fleece', 'was', 'white', 'as', 'snow', 'And', 'everywhere', 'that', 'Mary', 'went', 'Mary', 'went,', 'Mary', 'went', 'Everywhere', 'that', 'Mary', 'went', 'The', 'lamb', 'was', 'sure', 'to', 'go']\n"
     ]
    }
   ],
   "source": [
    "print(\"String.\\n\")\n",
    "a=\"1\"\n",
    "b=\"2\"\n",
    "c=a+b\n",
    "d=a+a+b+a\n",
    "\n",
    "print(f\"\\\n",
    "string a={a} and b={b}, \\ta+b is {c} \\ta+a+b+a is {d}, first three elements are {d[:3]}\\n\")\n",
    "\n",
    "e = 'clocrkr1e1c1t'\n",
    "print(f\"String {e}, all even elements are {e[::2]}\\n\")\n",
    "\n",
    "f = \"You are wrong\"\n",
    "print(f\"String {f}, using upper method tobe {f.upper()}, using lower method tobe {f.lower()}\\n\")\n",
    "\n",
    "\n",
    "g = \"Mary had a little lamb Little lamb, little lamb Mary had a little lamb \\\n",
    "Its fleece was white as snow And everywhere that Mary went Mary went, Mary went \\\n",
    "Everywhere that Mary went The lamb was sure to go\"\n",
    "print(f\"String\\n{g}\\n\\\n",
    "    Find word snow:         {g.find(\"snow\")}\\n\\\n",
    "    Replace Mary by Bob:    {g.replace(\"Mary\",\"Bob\")}\\n\\\n",
    "    Replace , by . :        {g.replace(\",\",\".\")}\\n\\\n",
    "    Split string into list: {g.split()}\")\n",
    "\n"
   ]
  },
  {
   "cell_type": "markdown",
   "metadata": {},
   "source": [
    "## \n",
    "RegEx (Regular Expression): tool for matching and handling strings"
   ]
  },
  {
   "cell_type": "code",
   "execution_count": 79,
   "metadata": {},
   "outputs": [
    {
     "name": "stdout",
     "output_type": "stream",
     "text": [
      "String House number- \\2105,\n",
      "    search pattern \\d: <re.Match object; span=(15, 16), match='2'>\n",
      "\n",
      "String The quick brown fox jumps over the lazy dog.,\n",
      "    substract fox with bear: The quick brown bear jumps over the lazy dog.\n",
      "\n",
      "String How much wood would a woodchuck chuck, if a woodchuck could chuck wood?,\n",
      "    find woo into list: ['woo', 'woo', 'woo', 'woo']\n"
     ]
    }
   ],
   "source": [
    "import re\n",
    "s3=\"House number- \\\\2105\"\n",
    "#pattern=\"10\"\n",
    "pattern=r\"\\d\" #raw string for integer or number format\n",
    "print(f\"\\\n",
    "String {s3},\\n\\\n",
    "    search pattern {pattern}: {re.search(pattern,s3)}\\n\")\n",
    "\n",
    "str1= \"The quick brown fox jumps over the lazy dog.\"\n",
    "print(f\"\\\n",
    "String {str1},\\n\\\n",
    "    substract fox with bear: {re.sub(\"fox\",\"bear\",str1)}\\n\")\n",
    "\n",
    "str2= \"How much wood would a woodchuck chuck, if a woodchuck could chuck wood?\"\n",
    "print(f\"\\\n",
    "String {str2},\\n\\\n",
    "    find woo into list: {re.findall(\"woo\",str2)}\")"
   ]
  },
  {
   "cell_type": "code",
   "execution_count": null,
   "metadata": {},
   "outputs": [],
   "source": []
  }
 ],
 "metadata": {
  "kernelspec": {
   "display_name": "Python 3",
   "language": "python",
   "name": "python3"
  },
  "language_info": {
   "codemirror_mode": {
    "name": "ipython",
    "version": 3
   },
   "file_extension": ".py",
   "mimetype": "text/x-python",
   "name": "python",
   "nbconvert_exporter": "python",
   "pygments_lexer": "ipython3",
   "version": "3.12.3"
  }
 },
 "nbformat": 4,
 "nbformat_minor": 2
}
