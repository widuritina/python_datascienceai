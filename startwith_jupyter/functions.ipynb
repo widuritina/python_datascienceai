{
 "cells": [
  {
   "cell_type": "markdown",
   "metadata": {},
   "source": [
    "# Functions"
   ]
  },
  {
   "cell_type": "code",
   "execution_count": 7,
   "metadata": {},
   "outputs": [
    {
     "name": "stdout",
     "output_type": "stream",
     "text": [
      "Adding two list, A = [1,2] and B = [2,4].\n",
      "    [1, 2, 3, 4]\n",
      "Adding two string a = \"Tina\" and B= \"Widuri\".\n",
      "    TinaWiduri\n",
      "\n",
      "\n",
      "string = Mary had a little lamb Little lamb, little lamb Mary had a little lamb.Its fleece was white as snow And everywhere that Mary went Mary went, Mary went Everywhere that Mary went The lamb was sure to go\n",
      "    Count words in a string: 38\n"
     ]
    }
   ],
   "source": [
    "def divide(a,b):\n",
    "    return a/b\n",
    "def con(a,b):\n",
    "    return a+b\n",
    "print(f\"\\\n",
    "Adding two list, A = [1,2] and B = [2,4].\\n\\\n",
    "    {con([1,2],[3,4])}\\n\\\n",
    "Adding two string a = \\\"Tina\\\" and B= \\\"Widuri\\\".\\n\\\n",
    "    {con(\"Tina\",\"Widuri\")}\\n\")\n",
    "\n",
    "\n",
    "# Count Word in A String\n",
    "def count(string):\n",
    "    string_list=[]\n",
    "    string_list=string.split() #covert string into list\n",
    "    return(len(string_list))\n",
    "string=\"Mary had a little lamb Little lamb, little lamb Mary had a little lamb.Its fleece was white as snow And everywhere that Mary went Mary went, Mary went Everywhere that Mary went The lamb was sure to go\"\n",
    "print(f\"\\n\\\n",
    "string = {string}\\n\\\n",
    "    Count words in a string: {count(string)}\")\n",
    "\n"
   ]
  },
  {
   "cell_type": "markdown",
   "metadata": {},
   "source": [
    "## Exception Handling\n",
    "1. Try-except\n",
    "2. Try-except-else\n",
    "3. Try-except-else-finally"
   ]
  },
  {
   "cell_type": "code",
   "execution_count": 15,
   "metadata": {},
   "outputs": [
    {
     "name": "stdout",
     "output_type": "stream",
     "text": [
      "Save divide 2 by 0:\n",
      "\tcannot divide by zero\n",
      "Square-root (-1):\n",
      "\tInvalid input! Please enter a positive integer or a float value.\n",
      "Complex math 5/(5-5):\n",
      "\tAn error occurred during calculation.\n"
     ]
    }
   ],
   "source": [
    "def safe_divide(numerator,denumerator):\n",
    "    try:\n",
    "        return numerator/denumerator\n",
    "    except ZeroDivisionError:\n",
    "        print(\"\\tcannot divide by zero\")\n",
    "print(\"Save divide 2 by 0:\")\n",
    "safe_divide(2,0)\n",
    "\n",
    "\n",
    "import math\n",
    "def square_root(number1):\n",
    "    try:\n",
    "        return math.sqrt(number1)\n",
    "    except ValueError:\n",
    "        print(\"\\tInvalid input! Please enter a positive integer or a float value.\")\n",
    "print(\"Square-root (-1):\")\n",
    "square_root(-1)\n",
    "\n",
    "\n",
    "def complex_math(num):\n",
    "    try:\n",
    "        result=num/(num-5)\n",
    "    except Exception as e:\n",
    "       print(f\"\\tAn error occurred during calculation.\") \n",
    "print(\"Complex math 5/(5-5):\")\n",
    "complex_math(5)\n",
    "\n"
   ]
  }
 ],
 "metadata": {
  "kernelspec": {
   "display_name": "Python 3",
   "language": "python",
   "name": "python3"
  },
  "language_info": {
   "codemirror_mode": {
    "name": "ipython",
    "version": 3
   },
   "file_extension": ".py",
   "mimetype": "text/x-python",
   "name": "python",
   "nbconvert_exporter": "python",
   "pygments_lexer": "ipython3",
   "version": "3.12.3"
  }
 },
 "nbformat": 4,
 "nbformat_minor": 2
}
