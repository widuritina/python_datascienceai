{
 "cells": [
  {
   "cell_type": "markdown",
   "metadata": {},
   "source": [
    "# If Statement\n"
   ]
  },
  {
   "cell_type": "code",
   "execution_count": 7,
   "metadata": {},
   "outputs": [
    {
     "name": "stdout",
     "output_type": "stream",
     "text": [
      "Hello. This is IF STATEMENT\n",
      "Here is an album rating: 5.5,\n",
      "\tThis album is ok\n",
      "Here is the album year: 1993\n",
      "\t1993\n"
     ]
    }
   ],
   "source": [
    "rating=5.5\n",
    "print(f\"Hello. This is IF STATEMENT\\n\\\n",
    "Here is an album rating: {rating},\")\n",
    "\n",
    "if(rating>8):\n",
    "    print(\"\\tThis album is Amazing\")\n",
    "elif(rating<=8):\n",
    "    print(\"\\tThis album is ok\")\n",
    "\n",
    "year=1993\n",
    "print(f\"\\\n",
    "Here is the album year: {year}\")\n",
    "if(year<1980 or year==1991 or year==1993):\n",
    "    print(f\"\\t{year}\")\n"
   ]
  },
  {
   "cell_type": "markdown",
   "metadata": {},
   "source": [
    "## Loops"
   ]
  },
  {
   "cell_type": "code",
   "execution_count": 2,
   "metadata": {},
   "outputs": [
    {
     "name": "stdout",
     "output_type": "stream",
     "text": [
      "Range -4 to 5:\n",
      "\t-4\n",
      "\t-3\n",
      "\t-2\n",
      "\t-1\n",
      "\t0\n",
      "\t1\n",
      "\t2\n",
      "\t3\n",
      "\t4\n",
      "Elements in genres:\n",
      "\trock\n",
      "\tR&B\n",
      "\tSoundtrack\n",
      "\tR&B\n",
      "\tsoul\n",
      "\tpop\n",
      "Ratings and while bigger that 6:\n",
      "\t10\n",
      "\t9.5\n",
      "\t10\n",
      "\t8\n",
      "\t7.5\n",
      "Move orange in squares=['orange', 'orange', 'purple', 'blue ', 'orange']\n",
      "    new_square=['orange', 'orange', 'orange']\n"
     ]
    }
   ],
   "source": [
    "print(f\"\\\n",
    "Range -4 to 5:\")\n",
    "for i in range(-4,5):\n",
    "    print(f\"\\t{i}\")\n",
    "\n",
    "genres=['rock', 'R&B', 'Soundtrack', 'R&B', 'soul', 'pop']\n",
    "print(f\"\\\n",
    "Elements in genres:\")\n",
    "for i in genres:\n",
    "    print(f\"\\t{i}\")\n",
    "\n",
    "playlist_ratings=[10, 9.5, 10, 8, 7.5, 5, 10, 10]\n",
    "i=0\n",
    "print(f\"\\\n",
    "Ratings and while bigger that 6:\")\n",
    "while (i<len(playlist_ratings) and playlist_ratings[i]>6):\n",
    "    print(f\"\\t{playlist_ratings[i]}\")\n",
    "    i+=1\n",
    "\n",
    "squares=['orange', 'orange', 'purple', 'blue ', 'orange']\n",
    "new_square=[]\n",
    "i=0\n",
    "while (i<len(squares)):\n",
    "    if (squares[i]=='orange'):\n",
    "        new_square.append(squares[i])\n",
    "    i+=1\n",
    "print(f\"\\\n",
    "Move orange in squares={squares}\\n\\\n",
    "    new_square={new_square}\")\n"
   ]
  },
  {
   "cell_type": "code",
   "execution_count": 3,
   "metadata": {},
   "outputs": [
    {
     "name": "stdout",
     "output_type": "stream",
     "text": [
      "Multipication of 6.\n",
      "\t6x1=6\n",
      "\t6x2=12\n",
      "\t6x3=18\n",
      "\t6x4=24\n",
      "\t6x5=30\n",
      "\t6x6=36\n",
      "\t6x7=42\n",
      "\t6x8=48\n",
      "\t6x9=54\n",
      "Multipication of 7.\n",
      "\t7x1=6\n",
      "\t7x2=12\n",
      "\t7x3=18\n",
      "\t7x4=24\n",
      "\t7x5=30\n",
      "\t7x6=36\n",
      "\t7x7=42\n",
      "\t7x8=48\n",
      "\t7x9=54\n"
     ]
    }
   ],
   "source": [
    "print(\"Multipication of 6.\")\n",
    "for i in range(1,10):\n",
    "    print(f\"\\t6x{i}={6*i}\")\n",
    "\n",
    "print(\"Multipication of 7.\")\n",
    "for i in range(1,10):\n",
    "    print(f\"\\t7x{i}={6*i}\")"
   ]
  },
  {
   "cell_type": "code",
   "execution_count": 6,
   "metadata": {},
   "outputs": [
    {
     "name": "stdout",
     "output_type": "stream",
     "text": [
      "Move animals more than 7 alphabets. \n",
      "    From animals = ['lion', 'giraffe', 'gorilla', 'parrots', 'crocodile', 'deer', 'swan']\n",
      "    to new_animals = ['giraffe', 'gorilla', 'parrots']\n"
     ]
    }
   ],
   "source": [
    "animals=[\"lion\", \"giraffe\", \"gorilla\", \"parrots\", \"crocodile\",\"deer\", \"swan\"]\n",
    "new_animals=[]\n",
    "i=0\n",
    "while(i<len(animals) ):\n",
    "    if(len(animals[i])==7):\n",
    "        new_animals.append(animals[i])\n",
    "    i+=1\n",
    "\n",
    "print(f\"Move animals more than 7 alphabets. \\n\\\n",
    "    From animals = {animals}\\n\\\n",
    "    to new_animals = {new_animals}\")"
   ]
  }
 ],
 "metadata": {
  "kernelspec": {
   "display_name": "Python 3",
   "language": "python",
   "name": "python3"
  },
  "language_info": {
   "codemirror_mode": {
    "name": "ipython",
    "version": 3
   },
   "file_extension": ".py",
   "mimetype": "text/x-python",
   "name": "python",
   "nbconvert_exporter": "python",
   "pygments_lexer": "ipython3",
   "version": "3.12.3"
  }
 },
 "nbformat": 4,
 "nbformat_minor": 2
}
